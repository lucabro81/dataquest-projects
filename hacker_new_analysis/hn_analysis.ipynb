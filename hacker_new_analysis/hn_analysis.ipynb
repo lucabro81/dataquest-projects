{
 "cells": [
  {
   "cell_type": "markdown",
   "metadata": {},
   "source": [
    "# Exploring Hacker News posts"
   ]
  },
  {
   "cell_type": "markdown",
   "metadata": {},
   "source": [
    "Hacker News is a site started by the startup incubator Y Combinator, where user-submitted stories (known as \"posts\") are voted and commented upon, similar to reddit. \n",
    "\n",
    "Hacker News is extremely popular in technology and startup circles, and posts that make it to the top of Hacker News' listings can get hundreds of thousands of visitors as a result."
   ]
  },
  {
   "cell_type": "code",
   "execution_count": 1,
   "metadata": {},
   "outputs": [
    {
     "name": "stdout",
     "output_type": "stream",
     "text": [
      "Header:\n",
      "['id', 'title', 'url', 'num_points', 'num_comments', 'author', 'created_at'] \n",
      "\n",
      "Data:\n",
      "['12579008', 'You have two days to comment if you want stem cells to be classified as your own', 'http://www.regulations.gov/document?D=FDA-2015-D-3719-0018', '1', '0', 'altstar', '9/26/2016 3:26']\n",
      "['12579005', 'SQLAR  the SQLite Archiver', 'https://www.sqlite.org/sqlar/doc/trunk/README.md', '1', '0', 'blacksqr', '9/26/2016 3:24']\n",
      "['12578997', 'What if we just printed a flatscreen television on the side of our boxes?', 'https://medium.com/vanmoof/our-secrets-out-f21c1f03fdc8#.ietxmez43', '1', '0', 'pavel_lishin', '9/26/2016 3:19']\n",
      "['12578989', 'algorithmic music', 'http://cacm.acm.org/magazines/2011/7/109891-algorithmic-composition/fulltext', '1', '0', 'poindontcare', '9/26/2016 3:16']\n",
      "['12578979', 'How the Data Vault Enables the Next-Gen Data Warehouse and Data Lake', 'https://www.talend.com/blog/2016/05/12/talend-and-Â\\x93the-data-vaultÂ\\x94', '1', '0', 'markgainor1', '9/26/2016 3:14']\n",
      "... \n",
      "\n",
      "Total:\n",
      "293119\n"
     ]
    }
   ],
   "source": [
    "from csv import reader\n",
    "\n",
    "opened_file = open('HN_posts_year_to_Sep_26_2016.csv')\n",
    "readed_list = list(reader(opened_file))\n",
    "hn_data_header = readed_list[0]\n",
    "hn_data = readed_list[1:]\n",
    "\n",
    "print('Header:')\n",
    "print(hn_data_header,'\\n')\n",
    "print('Data:')\n",
    "for row in hn_data[0:5]:\n",
    "    print(row)\n",
    "print('...','\\n')\n",
    "print('Total:')\n",
    "print(len(hn_data))"
   ]
  },
  {
   "cell_type": "markdown",
   "metadata": {},
   "source": [
    "#### Columns descriptions"
   ]
  },
  {
   "cell_type": "markdown",
   "metadata": {},
   "source": [
    "| Index | Label       | Description                                        |\n",
    "|:-----:|:-----------:|:---------------------------------------------------|\n",
    "|0      |id           |The unique identifier from Hacker News for the post |\n",
    "|1      |title        |The title of the post\n",
    "|2      |url          |The URL that the posts links to, if it the post has a URL\n",
    "|3      |num_points   |The number of points the post acquired, calculated as the total number of upvotes minus the total number of downvotes\n",
    "|4      |num_comments |The number of comments that were made on the post\n",
    "|5      |author       |The username of the person who submitted the post\n",
    "|6      |created_at   |The date and time at which the post was submitted"
   ]
  },
  {
   "cell_type": "markdown",
   "metadata": {},
   "source": [
    "#### Filtering data\n",
    "Now that we've removed the headers from hn, we're ready to filter our data. Since we're only concerned with post titles beginning with Ask HN or Show HN, we'll create new lists of lists containing just the data for those titles."
   ]
  },
  {
   "cell_type": "code",
   "execution_count": 2,
   "metadata": {},
   "outputs": [
    {
     "name": "stdout",
     "output_type": "stream",
     "text": [
      "Ask posts: 9139\n",
      "Show posts: 10158\n",
      "Other posts: 273822\n"
     ]
    }
   ],
   "source": [
    "ASK_HN = 'ask hn'\n",
    "SHOW_HN = 'show hn'\n",
    "\n",
    "ask_posts = []\n",
    "show_posts = []\n",
    "other_posts = []\n",
    "\n",
    "for row in hn_data:\n",
    "    \n",
    "    title = str(row[1]).lower()\n",
    "    \n",
    "    if (title.startswith(ASK_HN)):\n",
    "        ask_posts.append(row)\n",
    "    elif (title.startswith(SHOW_HN)):\n",
    "        show_posts.append(row)\n",
    "    else:\n",
    "        other_posts.append(row)\n",
    "        \n",
    "print('Ask posts:', len(ask_posts))\n",
    "print('Show posts:', len(show_posts))\n",
    "print('Other posts:', len(other_posts))"
   ]
  },
  {
   "cell_type": "markdown",
   "metadata": {},
   "source": [
    "Next, let's determine if ask posts or show posts receive more comments on average."
   ]
  },
  {
   "cell_type": "code",
   "execution_count": 3,
   "metadata": {},
   "outputs": [
    {
     "name": "stdout",
     "output_type": "stream",
     "text": [
      "Average num comments in Ask posts: 10.393478498741656\n",
      "Average num comments in Show posts: 4.886099625910612\n"
     ]
    }
   ],
   "source": [
    "total_ask_comments = 0\n",
    "for row in ask_posts:\n",
    "    total_ask_comments += int(row[4])\n",
    "avg_ask_comments = total_ask_comments/len(ask_posts)\n",
    "print ('Average num comments in Ask posts:', avg_ask_comments)\n",
    "\n",
    "total_show_comments = 0\n",
    "for row in show_posts:\n",
    "    total_show_comments += int(row[4])\n",
    "avg_show_comments = total_show_comments/len(show_posts)\n",
    "print ('Average num comments in Show posts:', avg_show_comments)\n"
   ]
  },
  {
   "cell_type": "markdown",
   "metadata": {},
   "source": [
    "Clearly \"Ask\" posts' comments are in average more then twice respect of \"Show\" posts (english? what?)"
   ]
  },
  {
   "cell_type": "markdown",
   "metadata": {},
   "source": [
    "Now we're aggregating data by questions by hour and comments by hour"
   ]
  },
  {
   "cell_type": "code",
   "execution_count": 26,
   "metadata": {},
   "outputs": [
    {
     "name": "stdout",
     "output_type": "stream",
     "text": [
      "hour: 02 \tcount: 269 \tcomments: 2996\n",
      "hour: 01 \tcount: 282 \tcomments: 2089\n",
      "hour: 22 \tcount: 383 \tcomments: 3372\n",
      "hour: 21 \tcount: 518 \tcomments: 4500\n",
      "hour: 19 \tcount: 552 \tcomments: 3954\n",
      "hour: 17 \tcount: 587 \tcomments: 5547\n",
      "hour: 15 \tcount: 646 \tcomments: 18525\n",
      "hour: 14 \tcount: 513 \tcomments: 4972\n",
      "hour: 13 \tcount: 444 \tcomments: 7245\n",
      "hour: 11 \tcount: 312 \tcomments: 2797\n",
      "hour: 10 \tcount: 282 \tcomments: 3013\n",
      "hour: 09 \tcount: 222 \tcomments: 1477\n",
      "hour: 07 \tcount: 226 \tcomments: 1585\n",
      "hour: 03 \tcount: 271 \tcomments: 2154\n",
      "hour: 23 \tcount: 343 \tcomments: 2297\n",
      "hour: 20 \tcount: 510 \tcomments: 4462\n",
      "hour: 16 \tcount: 579 \tcomments: 4466\n",
      "hour: 08 \tcount: 257 \tcomments: 2362\n",
      "hour: 00 \tcount: 301 \tcomments: 2277\n",
      "hour: 18 \tcount: 614 \tcomments: 4877\n",
      "hour: 12 \tcount: 342 \tcomments: 4234\n",
      "hour: 04 \tcount: 243 \tcomments: 2360\n",
      "hour: 06 \tcount: 234 \tcomments: 1587\n",
      "hour: 05 \tcount: 209 \tcomments: 1838\n"
     ]
    }
   ],
   "source": [
    "import datetime as dt\n",
    "\n",
    "result_list = []\n",
    "\n",
    "for row in ask_posts:\n",
    "    result_list.append([row[6], row[4]])\n",
    "\n",
    "counts_by_hour = {}\n",
    "comments_by_hour = {}\n",
    "\n",
    "for row in result_list:\n",
    "    comments = int(row[1])\n",
    "    datetime = dt.datetime.strptime(row[0], \"%m/%d/%Y %H:%M\")\n",
    "    hour_str = dt.datetime.strftime(datetime, \"%H\")\n",
    "    \n",
    "    if hour_str in counts_by_hour:\n",
    "        counts_by_hour[hour_str] += 1\n",
    "        comments_by_hour[hour_str] += comments\n",
    "    else:\n",
    "        counts_by_hour[hour_str] = 1\n",
    "        comments_by_hour[hour_str] = comments\n",
    "        \n",
    "for key in comments_by_hour:\n",
    "    print(\"hour:\", key, \"\\tcount:\", counts_by_hour[key], \"\\tcomments:\", comments_by_hour[key])\n"
   ]
  },
  {
   "cell_type": "markdown",
   "metadata": {},
   "source": [
    "`avg_by_hour` is a list of lists in which the first element is the hour and the second element is the average number of comments per post"
   ]
  },
  {
   "cell_type": "code",
   "execution_count": 34,
   "metadata": {},
   "outputs": [
    {
     "name": "stdout",
     "output_type": "stream",
     "text": [
      "avg_by_hour:\n",
      "00:00: 7.56 average comments per post\n",
      "01:00: 7.41 average comments per post\n",
      "02:00: 11.14 average comments per post\n",
      "03:00: 7.95 average comments per post\n",
      "04:00: 9.71 average comments per post\n",
      "05:00: 8.79 average comments per post\n",
      "06:00: 6.78 average comments per post\n",
      "07:00: 7.01 average comments per post\n",
      "08:00: 9.19 average comments per post\n",
      "09:00: 6.65 average comments per post\n",
      "10:00: 10.68 average comments per post\n",
      "11:00: 8.96 average comments per post\n",
      "12:00: 12.38 average comments per post\n",
      "13:00: 16.32 average comments per post\n",
      "14:00: 9.69 average comments per post\n",
      "15:00: 28.68 average comments per post\n",
      "16:00: 7.71 average comments per post\n",
      "17:00: 9.45 average comments per post\n",
      "18:00: 7.94 average comments per post\n",
      "19:00: 7.16 average comments per post\n",
      "20:00: 8.75 average comments per post\n",
      "21:00: 8.69 average comments per post\n",
      "22:00: 8.80 average comments per post\n",
      "23:00: 6.70 average comments per post\n"
     ]
    }
   ],
   "source": [
    "avg_by_hour = []\n",
    "for hour in comments_by_hour:\n",
    "    average = comments_by_hour[hour]/counts_by_hour[hour]\n",
    "    avg_by_hour.append([hour, average])\n",
    "    \n",
    "avg_by_hour.sort(key = lambda avg_by_hour: avg_by_hour[0])\n",
    "print('avg_by_hour:')\n",
    "for row in avg_by_hour:\n",
    "    print('{}:00: {:.2f} average comments per post'.format(row[0], row[1]))\n"
   ]
  },
  {
   "cell_type": "markdown",
   "metadata": {},
   "source": [
    "Few dicks guys, if you want to receive feedback, early afternoon is da way\n",
    "\n",
    "`15:00: 28.68 average comments per post`"
   ]
  },
  {
   "cell_type": "code",
   "execution_count": null,
   "metadata": {},
   "outputs": [],
   "source": []
  },
  {
   "cell_type": "code",
   "execution_count": null,
   "metadata": {},
   "outputs": [],
   "source": []
  }
 ],
 "metadata": {
  "kernelspec": {
   "display_name": "Python 3",
   "language": "python",
   "name": "python3"
  },
  "language_info": {
   "codemirror_mode": {
    "name": "ipython",
    "version": 3
   },
   "file_extension": ".py",
   "mimetype": "text/x-python",
   "name": "python",
   "nbconvert_exporter": "python",
   "pygments_lexer": "ipython3",
   "version": "3.6.3"
  }
 },
 "nbformat": 4,
 "nbformat_minor": 2
}
